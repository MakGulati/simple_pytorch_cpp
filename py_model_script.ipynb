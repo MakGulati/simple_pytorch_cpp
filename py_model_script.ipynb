{
 "cells": [
  {
   "cell_type": "code",
   "execution_count": 1,
   "metadata": {},
   "outputs": [],
   "source": [
    "import torch\n",
    "from sklearn.model_selection import train_test_split"
   ]
  },
  {
   "cell_type": "code",
   "execution_count": 2,
   "metadata": {},
   "outputs": [],
   "source": [
    "# defining simple nn model with 2 fc layers\n",
    "class SimpleNet(torch.nn.Module):\n",
    "    def __init__(self):\n",
    "        super(SimpleNet, self).__init__()\n",
    "        self.fc1 = torch.nn.Linear(4,2)\n",
    "        self.fc2 = torch.nn.Linear(2,1)\n",
    "\n",
    "    def forward(self, x):\n",
    "        output = torch.relu(self.fc1(x))\n",
    "        output = torch.sigmoid(self.fc2(output))\n",
    "        return output"
   ]
  },
  {
   "cell_type": "code",
   "execution_count": 3,
   "metadata": {},
   "outputs": [],
   "source": [
    "# simple supervised learning task to classify if the sum of features is greater than 10\n",
    "features = torch.randint(high=8,size=(500,4)).type(torch.FloatTensor)\n",
    "labels = torch.Tensor([x>10 for x in  torch.sum(features,dim=1)]).reshape(-1,1)"
   ]
  },
  {
   "cell_type": "code",
   "execution_count": 4,
   "metadata": {},
   "outputs": [],
   "source": [
    "# splitting features and labels\n",
    "X=features\n",
    "y=labels\n",
    "X_train, X_test, y_train, y_test = train_test_split(X, y, test_size=0.2)"
   ]
  },
  {
   "cell_type": "code",
   "execution_count": 5,
   "metadata": {},
   "outputs": [],
   "source": [
    "# initialise nn model\n",
    "model=SimpleNet()"
   ]
  },
  {
   "cell_type": "code",
   "execution_count": 6,
   "metadata": {},
   "outputs": [],
   "source": [
    "# definig loss function and optimizer\n",
    "criterion=torch.nn.BCELoss()\n",
    "optimizer=torch.optim.Adam(model.parameters(),lr=0.001)"
   ]
  },
  {
   "cell_type": "code",
   "execution_count": 7,
   "metadata": {},
   "outputs": [
    {
     "name": "stdout",
     "output_type": "stream",
     "text": [
      "epoch:10,loss = 1.2445353269577026, accuracy = 0.80025\n",
      "epoch:20,loss = 1.0772840976715088, accuracy = 0.814375\n"
     ]
    }
   ],
   "source": [
    "# model training\n",
    "number_of_epochs=20\n",
    "total,correct=0,0\n",
    "for epoch in range(number_of_epochs):\n",
    "    for feat, label in zip(X_train,y_train):\n",
    "        optimizer.zero_grad()\n",
    "        outputs = model(feat)\n",
    "        outputs_class = model(feat).round()\n",
    "        loss = criterion(outputs, label)\n",
    "        loss.backward()\n",
    "        optimizer.step() \n",
    "        total += label.size(0)\n",
    "        correct += (outputs_class.eq(label).sum().item())  \n",
    "\n",
    "    if (epoch+1)%10 == 0: \n",
    "      print(f'epoch:{epoch+1},loss = {loss.item()}, accuracy = {correct / total}')"
   ]
  },
  {
   "cell_type": "code",
   "execution_count": 8,
   "metadata": {},
   "outputs": [
    {
     "name": "stdout",
     "output_type": "stream",
     "text": [
      "Loss: 27.750593127217144, Test Accuracy : 0.86\n"
     ]
    }
   ],
   "source": [
    "# evaluating the model\n",
    "correct, total, loss = 0, 0, 0.0\n",
    "with torch.no_grad():\n",
    "        for features,labels in zip(X_test,y_test):\n",
    "                outputs = model(features)\n",
    "                outputs_class = model(features).round()\n",
    "                loss += criterion(outputs, labels).item()\n",
    "                total += labels.size(0)\n",
    "                correct += outputs_class.eq(labels).sum().item()\n",
    "                # print(f'correctly detected  {outputs_class.eq(labels).sum().item()} out of {labels.size(0)}')\n",
    "accuracy = correct / total\n",
    "print(f'Loss: {loss}, Test Accuracy : {accuracy}')"
   ]
  },
  {
   "cell_type": "code",
   "execution_count": null,
   "metadata": {},
   "outputs": [],
   "source": [
    "# def freeze_network(model):\n",
    "#     for name, p in model.named_parameters():\n",
    "#         if \"fc1\" in name:\n",
    "#             p.requires_grad = False"
   ]
  },
  {
   "cell_type": "code",
   "execution_count": null,
   "metadata": {},
   "outputs": [],
   "source": [
    "# freeze_network(model)\n"
   ]
  },
  {
   "cell_type": "code",
   "execution_count": 10,
   "metadata": {},
   "outputs": [],
   "source": [
    "# saving model checkpoints\n",
    "py_trace = torch.jit.trace(model,(torch.rand(1, 4)))\n",
    "py_trace.save('models/py_trace_model.pt')"
   ]
  }
 ],
 "metadata": {
  "interpreter": {
   "hash": "c3072859f16e1334a684345a8e371d77986cd8aefdc3cb95aefa5d29378864a4"
  },
  "kernelspec": {
   "display_name": "Python 3.9.7 64-bit ('pytorch-cpp': conda)",
   "language": "python",
   "name": "python3"
  },
  "language_info": {
   "codemirror_mode": {
    "name": "ipython",
    "version": 3
   },
   "file_extension": ".py",
   "mimetype": "text/x-python",
   "name": "python",
   "nbconvert_exporter": "python",
   "pygments_lexer": "ipython3",
   "version": "3.8.12"
  },
  "orig_nbformat": 4
 },
 "nbformat": 4,
 "nbformat_minor": 2
}
